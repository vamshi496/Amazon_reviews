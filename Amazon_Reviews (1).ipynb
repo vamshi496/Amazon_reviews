{
 "cells": [
  {
   "cell_type": "code",
   "execution_count": 3,
   "metadata": {},
   "outputs": [],
   "source": [
    "# import the  necessary libraries\n",
    "import pandas as pd\n",
    "from sklearn.model_selection import train_test_split\n",
    "from nltk.tokenize import word_tokenize,RegexpTokenizer\n",
    "import re #for using regular expressions.we use regular expressions for pattern matching.\n",
    "from nltk.corpus import stopwords\n",
    "from nltk.stem import WordNetLemmatizer\n",
    "from sklearn.feature_extraction.text import TfidfVectorizer\n",
    "import warnings\n",
    "warnings.filterwarnings('ignore')\n",
    "from sklearn.linear_model import LogisticRegression\n",
    "from sklearn.naive_bayes import MultinomialNB\n",
    "from sklearn.metrics import confusion_matrix,precision_score,f1_score,recall_score,roc_auc_score,roc_curve,jaccard_score\n",
    "import matplotlib.pyplot as plt"
   ]
  },
  {
   "cell_type": "code",
   "execution_count": 4,
   "metadata": {},
   "outputs": [],
   "source": [
    "tokenizer=RegexpTokenizer(r'\\w+')  \n",
    "#tokenizer.tokenize(content) #gives list of tokens.\n",
    "lemmatizer=WordNetLemmatizer()\n",
    "tfidf=TfidfVectorizer()"
   ]
  },
  {
   "cell_type": "code",
   "execution_count": 5,
   "metadata": {},
   "outputs": [
    {
     "data": {
      "text/plain": [
       "['xyz@gmail.com.I', 'xyz@gmail.com', 'abc@gmail.com']"
      ]
     },
     "execution_count": 5,
     "metadata": {},
     "output_type": "execute_result"
    }
   ],
   "source": [
    "#example to use regular expressions.\n",
    "content='My emailid was xyz@gmail.com.I changed it from xyz@gmail.com to abc@gmail.com'\n",
    "re.findall(r\"[a-zA-Z0-9+._-]+@[a-zA-Z0-9._-]+\\.[a-zA-Z0-9_-]+\",content)"
   ]
  },
  {
   "cell_type": "code",
   "execution_count": 6,
   "metadata": {},
   "outputs": [],
   "source": [
    "#Read the csv file.\n",
    "reviews_df=pd.read_csv('Amazon_Reviews.csv')\n",
    "y=reviews_df['Label']\n",
    "reviews_df.drop(columns='Label',inplace=True)\n"
   ]
  },
  {
   "cell_type": "code",
   "execution_count": 7,
   "metadata": {},
   "outputs": [],
   "source": [
    "#Built the train test split.\n",
    "x_train,x_test,y_train,y_test=train_test_split(reviews_df,y,test_size=0.2,random_state=42)"
   ]
  },
  {
   "cell_type": "code",
   "execution_count": 8,
   "metadata": {},
   "outputs": [],
   "source": [
    "def text_preprocessing(review):\n",
    "    tokens=tokenizer.tokenize(review)#generate the tokens\n",
    "    pure_tokens=[token.lower() for token in tokens if token.lower() not in stopwords.words('english')]#removing stopwords\n",
    "    #tokens after removal of stopwords are called as pure tokens\n",
    "    lemmatized_tokens=[lemmatizer.lemmatize(token,pos='v') for token in pure_tokens]\n",
    "    return ' '.join(lemmatized_tokens)\n",
    "\n",
    "#text_preprocessing(x_train['Review'][])"
   ]
  },
  {
   "cell_type": "code",
   "execution_count": 9,
   "metadata": {},
   "outputs": [],
   "source": [
    "#Apply the text_preprocessing to the x_train,x_test\n",
    "x_train['cleaned_text']=x_train['Review'].apply(text_preprocessing)\n",
    "x_test['cleaned_text']=x_test['Review'].apply(text_preprocessing)\n"
   ]
  },
  {
   "cell_type": "code",
   "execution_count": 10,
   "metadata": {},
   "outputs": [
    {
     "data": {
      "text/plain": [
       "<159x2348 sparse matrix of type '<class 'numpy.float64'>'\n",
       "\twith 5522 stored elements in Compressed Sparse Row format>"
      ]
     },
     "execution_count": 10,
     "metadata": {},
     "output_type": "execute_result"
    }
   ],
   "source": [
    "#document matrix is built which is inputs to train the model\n",
    "x_train_tfidf=tfidf.fit_transform(x_train['cleaned_text'])\n",
    "x_train_tfidf"
   ]
  },
  {
   "cell_type": "code",
   "execution_count": 11,
   "metadata": {},
   "outputs": [
    {
     "data": {
      "text/plain": [
       "<40x2348 sparse matrix of type '<class 'numpy.float64'>'\n",
       "\twith 968 stored elements in Compressed Sparse Row format>"
      ]
     },
     "execution_count": 11,
     "metadata": {},
     "output_type": "execute_result"
    }
   ],
   "source": [
    "#document matrix is built which is inputs to test the model\n",
    "x_test_tfidf=tfidf.transform(x_test['cleaned_text'])\n",
    "x_test_tfidf"
   ]
  },
  {
   "cell_type": "code",
   "execution_count": 12,
   "metadata": {},
   "outputs": [
    {
     "data": {
      "text/plain": [
       "LogisticRegression()"
      ]
     },
     "execution_count": 12,
     "metadata": {},
     "output_type": "execute_result"
    }
   ],
   "source": [
    "# Build the logistic regression model\n",
    "logreg=LogisticRegression()\n",
    "logreg.fit(x_train_tfidf,y_train)"
   ]
  },
  {
   "cell_type": "code",
   "execution_count": 13,
   "metadata": {},
   "outputs": [
    {
     "data": {
      "text/plain": [
       "array([1, 0, 1, 1, 0, 1, 1, 1, 1, 1, 1, 0, 0, 0, 1, 1, 1, 1, 0, 1, 1, 1,\n",
       "       1, 1, 1, 1, 0, 1, 1, 1, 0, 1, 1, 1, 1, 1, 0, 1, 1, 0], dtype=int64)"
      ]
     },
     "execution_count": 13,
     "metadata": {},
     "output_type": "execute_result"
    }
   ],
   "source": [
    "#predict the x_test_tfidf values using logreg\n",
    "\n",
    "pred=logreg.predict(x_test_tfidf)\n",
    "pred"
   ]
  },
  {
   "cell_type": "code",
   "execution_count": 25,
   "metadata": {},
   "outputs": [
    {
     "data": {
      "text/plain": [
       "array([1, 0, 1, 1, 0, 1, 1, 1, 1, 1, 1, 0, 0, 0, 1, 1, 1, 1, 0, 1, 1, 1,\n",
       "       1, 1, 1, 1, 0, 1, 1, 1, 0, 1, 1, 1, 1, 1, 0, 0, 1, 0], dtype=int64)"
      ]
     },
     "execution_count": 25,
     "metadata": {},
     "output_type": "execute_result"
    }
   ],
   "source": [
    "#Build the  Multinomial Naive Bayes.\n",
    "\n",
    "mnb=MultinomialNB()\n",
    "mnb.fit(x_train_tfidf,y_train)\n",
    "mnb.predict(x_test_tfidf)"
   ]
  },
  {
   "cell_type": "code",
   "execution_count": 26,
   "metadata": {},
   "outputs": [
    {
     "data": {
      "text/plain": [
       "array([1, 0, 1, 1, 0, 1, 1, 1, 1, 1, 1, 0, 0, 0, 1, 1, 1, 1, 0, 1, 1, 1,\n",
       "       1, 1, 1, 1, 0, 1, 1, 1, 0, 1, 1, 1, 1, 1, 0, 1, 1, 0], dtype=int64)"
      ]
     },
     "execution_count": 26,
     "metadata": {},
     "output_type": "execute_result"
    }
   ],
   "source": [
    "pred=logreg.predict(x_test_tfidf)\n",
    "pred"
   ]
  },
  {
   "cell_type": "code",
   "execution_count": 27,
   "metadata": {},
   "outputs": [
    {
     "data": {
      "text/plain": [
       "array([[0.43168263, 0.56831737],\n",
       "       [0.52547024, 0.47452976],\n",
       "       [0.38634086, 0.61365914],\n",
       "       [0.43747918, 0.56252082],\n",
       "       [0.53227342, 0.46772658],\n",
       "       [0.38320747, 0.61679253],\n",
       "       [0.36213114, 0.63786886],\n",
       "       [0.37094754, 0.62905246],\n",
       "       [0.33846182, 0.66153818],\n",
       "       [0.3590739 , 0.6409261 ],\n",
       "       [0.49883489, 0.50116511],\n",
       "       [0.51667886, 0.48332114],\n",
       "       [0.50659085, 0.49340915],\n",
       "       [0.52184596, 0.47815404],\n",
       "       [0.46340721, 0.53659279],\n",
       "       [0.36338319, 0.63661681],\n",
       "       [0.42866137, 0.57133863],\n",
       "       [0.45900522, 0.54099478],\n",
       "       [0.56864961, 0.43135039],\n",
       "       [0.40606787, 0.59393213],\n",
       "       [0.38433672, 0.61566328],\n",
       "       [0.47979731, 0.52020269],\n",
       "       [0.41712386, 0.58287614],\n",
       "       [0.35868476, 0.64131524],\n",
       "       [0.3882566 , 0.6117434 ],\n",
       "       [0.4454402 , 0.5545598 ],\n",
       "       [0.5895694 , 0.4104306 ],\n",
       "       [0.40055229, 0.59944771],\n",
       "       [0.43596089, 0.56403911],\n",
       "       [0.36620241, 0.63379759],\n",
       "       [0.52146174, 0.47853826],\n",
       "       [0.42931601, 0.57068399],\n",
       "       [0.41524669, 0.58475331],\n",
       "       [0.24458147, 0.75541853],\n",
       "       [0.3945432 , 0.6054568 ],\n",
       "       [0.35663096, 0.64336904],\n",
       "       [0.52155327, 0.47844673],\n",
       "       [0.49146319, 0.50853681],\n",
       "       [0.494285  , 0.505715  ],\n",
       "       [0.53488014, 0.46511986]])"
      ]
     },
     "execution_count": 27,
     "metadata": {},
     "output_type": "execute_result"
    }
   ],
   "source": [
    "predict_probability=logreg.predict_proba(x_test_tfidf)\n",
    "predict_probability"
   ]
  },
  {
   "cell_type": "code",
   "execution_count": 28,
   "metadata": {},
   "outputs": [
    {
     "data": {
      "text/plain": [
       "array([0.56831737, 0.47452976, 0.61365914, 0.56252082, 0.46772658,\n",
       "       0.61679253, 0.63786886, 0.62905246, 0.66153818, 0.6409261 ,\n",
       "       0.50116511, 0.48332114, 0.49340915, 0.47815404, 0.53659279,\n",
       "       0.63661681, 0.57133863, 0.54099478, 0.43135039, 0.59393213,\n",
       "       0.61566328, 0.52020269, 0.58287614, 0.64131524, 0.6117434 ,\n",
       "       0.5545598 , 0.4104306 , 0.59944771, 0.56403911, 0.63379759,\n",
       "       0.47853826, 0.57068399, 0.58475331, 0.75541853, 0.6054568 ,\n",
       "       0.64336904, 0.47844673, 0.50853681, 0.505715  , 0.46511986])"
      ]
     },
     "execution_count": 28,
     "metadata": {},
     "output_type": "execute_result"
    }
   ],
   "source": [
    "positivecls_probability=predict_probability[::,1]\n",
    "\n",
    "positivecls_probability\n"
   ]
  },
  {
   "cell_type": "code",
   "execution_count": 29,
   "metadata": {},
   "outputs": [
    {
     "name": "stdout",
     "output_type": "stream",
     "text": [
      "[0.         0.06666667 0.06666667 0.13333333 0.13333333 0.2\n",
      " 0.2        0.26666667 0.26666667 0.6        0.6        1.        ]\n",
      "[0.   0.   0.24 0.24 0.84 0.84 0.88 0.88 0.96 0.96 1.   1.  ]\n",
      "[1.75541853 0.75541853 0.63661681 0.63379759 0.56252082 0.5545598\n",
      " 0.54099478 0.53659279 0.50853681 0.47853826 0.47844673 0.4104306 ]\n"
     ]
    }
   ],
   "source": [
    "fpr,tpr,thresholds=roc_curve(y_test,positivecls_probability)\n",
    "print(fpr)\n",
    "print(tpr)\n",
    "print(thresholds)\n"
   ]
  },
  {
   "cell_type": "code",
   "execution_count": 30,
   "metadata": {},
   "outputs": [
    {
     "data": {
      "text/plain": [
       "Text(0.5, 1.0, 'fpr,tpr,ratings')"
      ]
     },
     "execution_count": 30,
     "metadata": {},
     "output_type": "execute_result"
    },
    {
     "data": {
      "image/png": "[encoded data removed]",
      "text/plain": [
       "<Figure size 432x288 with 1 Axes>"
      ]
     },
     "metadata": {
      "needs_background": "light"
     },
     "output_type": "display_data"
    }
   ],
   "source": [
    "plt.plot(fpr,tpr)\n",
    "plt.ylabel('True positive Rate')\n",
    "plt.xlabel('False positive Rate')\n",
    "plt.title('fpr,tpr,ratings')"
   ]
  },
  {
   "cell_type": "code",
   "execution_count": 31,
   "metadata": {},
   "outputs": [
    {
     "data": {
      "text/html": [
       "<div>\n",
       "<style scoped>\n",
       "    .dataframe tbody tr th:only-of-type {\n",
       "        vertical-align: middle;\n",
       "    }\n",
       "\n",
       "    .dataframe tbody tr th {\n",
       "        vertical-align: top;\n",
       "    }\n",
       "\n",
       "    .dataframe thead th {\n",
       "        text-align: right;\n",
       "    }\n",
       "</style>\n",
       "<table border=\"1\" class=\"dataframe\">\n",
       "  <thead>\n",
       "    <tr style=\"text-align: right;\">\n",
       "      <th></th>\n",
       "      <th>Actuals</th>\n",
       "      <th>Predictions</th>\n",
       "    </tr>\n",
       "  </thead>\n",
       "  <tbody>\n",
       "    <tr>\n",
       "      <th>82</th>\n",
       "      <td>1</td>\n",
       "      <td>1</td>\n",
       "    </tr>\n",
       "    <tr>\n",
       "      <th>15</th>\n",
       "      <td>0</td>\n",
       "      <td>0</td>\n",
       "    </tr>\n",
       "    <tr>\n",
       "      <th>111</th>\n",
       "      <td>1</td>\n",
       "      <td>1</td>\n",
       "    </tr>\n",
       "    <tr>\n",
       "      <th>177</th>\n",
       "      <td>1</td>\n",
       "      <td>1</td>\n",
       "    </tr>\n",
       "    <tr>\n",
       "      <th>76</th>\n",
       "      <td>0</td>\n",
       "      <td>0</td>\n",
       "    </tr>\n",
       "    <tr>\n",
       "      <th>163</th>\n",
       "      <td>1</td>\n",
       "      <td>1</td>\n",
       "    </tr>\n",
       "    <tr>\n",
       "      <th>68</th>\n",
       "      <td>1</td>\n",
       "      <td>1</td>\n",
       "    </tr>\n",
       "    <tr>\n",
       "      <th>67</th>\n",
       "      <td>1</td>\n",
       "      <td>1</td>\n",
       "    </tr>\n",
       "    <tr>\n",
       "      <th>120</th>\n",
       "      <td>1</td>\n",
       "      <td>1</td>\n",
       "    </tr>\n",
       "    <tr>\n",
       "      <th>173</th>\n",
       "      <td>1</td>\n",
       "      <td>1</td>\n",
       "    </tr>\n",
       "    <tr>\n",
       "      <th>176</th>\n",
       "      <td>0</td>\n",
       "      <td>1</td>\n",
       "    </tr>\n",
       "    <tr>\n",
       "      <th>148</th>\n",
       "      <td>0</td>\n",
       "      <td>0</td>\n",
       "    </tr>\n",
       "    <tr>\n",
       "      <th>65</th>\n",
       "      <td>0</td>\n",
       "      <td>0</td>\n",
       "    </tr>\n",
       "    <tr>\n",
       "      <th>30</th>\n",
       "      <td>0</td>\n",
       "      <td>0</td>\n",
       "    </tr>\n",
       "    <tr>\n",
       "      <th>86</th>\n",
       "      <td>0</td>\n",
       "      <td>1</td>\n",
       "    </tr>\n",
       "    <tr>\n",
       "      <th>85</th>\n",
       "      <td>1</td>\n",
       "      <td>1</td>\n",
       "    </tr>\n",
       "    <tr>\n",
       "      <th>55</th>\n",
       "      <td>1</td>\n",
       "      <td>1</td>\n",
       "    </tr>\n",
       "    <tr>\n",
       "      <th>60</th>\n",
       "      <td>1</td>\n",
       "      <td>1</td>\n",
       "    </tr>\n",
       "    <tr>\n",
       "      <th>90</th>\n",
       "      <td>0</td>\n",
       "      <td>0</td>\n",
       "    </tr>\n",
       "    <tr>\n",
       "      <th>159</th>\n",
       "      <td>1</td>\n",
       "      <td>1</td>\n",
       "    </tr>\n",
       "    <tr>\n",
       "      <th>16</th>\n",
       "      <td>1</td>\n",
       "      <td>1</td>\n",
       "    </tr>\n",
       "    <tr>\n",
       "      <th>124</th>\n",
       "      <td>1</td>\n",
       "      <td>1</td>\n",
       "    </tr>\n",
       "    <tr>\n",
       "      <th>96</th>\n",
       "      <td>1</td>\n",
       "      <td>1</td>\n",
       "    </tr>\n",
       "    <tr>\n",
       "      <th>172</th>\n",
       "      <td>1</td>\n",
       "      <td>1</td>\n",
       "    </tr>\n",
       "    <tr>\n",
       "      <th>66</th>\n",
       "      <td>1</td>\n",
       "      <td>1</td>\n",
       "    </tr>\n",
       "    <tr>\n",
       "      <th>189</th>\n",
       "      <td>0</td>\n",
       "      <td>1</td>\n",
       "    </tr>\n",
       "    <tr>\n",
       "      <th>147</th>\n",
       "      <td>0</td>\n",
       "      <td>0</td>\n",
       "    </tr>\n",
       "    <tr>\n",
       "      <th>9</th>\n",
       "      <td>1</td>\n",
       "      <td>1</td>\n",
       "    </tr>\n",
       "    <tr>\n",
       "      <th>18</th>\n",
       "      <td>1</td>\n",
       "      <td>1</td>\n",
       "    </tr>\n",
       "    <tr>\n",
       "      <th>128</th>\n",
       "      <td>0</td>\n",
       "      <td>1</td>\n",
       "    </tr>\n",
       "    <tr>\n",
       "      <th>190</th>\n",
       "      <td>0</td>\n",
       "      <td>0</td>\n",
       "    </tr>\n",
       "    <tr>\n",
       "      <th>45</th>\n",
       "      <td>1</td>\n",
       "      <td>1</td>\n",
       "    </tr>\n",
       "    <tr>\n",
       "      <th>192</th>\n",
       "      <td>1</td>\n",
       "      <td>1</td>\n",
       "    </tr>\n",
       "    <tr>\n",
       "      <th>164</th>\n",
       "      <td>0</td>\n",
       "      <td>1</td>\n",
       "    </tr>\n",
       "    <tr>\n",
       "      <th>101</th>\n",
       "      <td>1</td>\n",
       "      <td>1</td>\n",
       "    </tr>\n",
       "    <tr>\n",
       "      <th>69</th>\n",
       "      <td>1</td>\n",
       "      <td>1</td>\n",
       "    </tr>\n",
       "    <tr>\n",
       "      <th>126</th>\n",
       "      <td>1</td>\n",
       "      <td>0</td>\n",
       "    </tr>\n",
       "    <tr>\n",
       "      <th>123</th>\n",
       "      <td>1</td>\n",
       "      <td>1</td>\n",
       "    </tr>\n",
       "    <tr>\n",
       "      <th>75</th>\n",
       "      <td>0</td>\n",
       "      <td>1</td>\n",
       "    </tr>\n",
       "    <tr>\n",
       "      <th>78</th>\n",
       "      <td>0</td>\n",
       "      <td>0</td>\n",
       "    </tr>\n",
       "  </tbody>\n",
       "</table>\n",
       "</div>"
      ],
      "text/plain": [
       "     Actuals  Predictions\n",
       "82         1            1\n",
       "15         0            0\n",
       "111        1            1\n",
       "177        1            1\n",
       "76         0            0\n",
       "163        1            1\n",
       "68         1            1\n",
       "67         1            1\n",
       "120        1            1\n",
       "173        1            1\n",
       "176        0            1\n",
       "148        0            0\n",
       "65         0            0\n",
       "30         0            0\n",
       "86         0            1\n",
       "85         1            1\n",
       "55         1            1\n",
       "60         1            1\n",
       "90         0            0\n",
       "159        1            1\n",
       "16         1            1\n",
       "124        1            1\n",
       "96         1            1\n",
       "172        1            1\n",
       "66         1            1\n",
       "189        0            1\n",
       "147        0            0\n",
       "9          1            1\n",
       "18         1            1\n",
       "128        0            1\n",
       "190        0            0\n",
       "45         1            1\n",
       "192        1            1\n",
       "164        0            1\n",
       "101        1            1\n",
       "69         1            1\n",
       "126        1            0\n",
       "123        1            1\n",
       "75         0            1\n",
       "78         0            0"
      ]
     },
     "execution_count": 31,
     "metadata": {},
     "output_type": "execute_result"
    }
   ],
   "source": [
    "comperission_df=pd.DataFrame({'Actuals':y_test,'Predictions':pred})  #the function called comperission of the model\n",
    "comperission_df"
   ]
  },
  {
   "cell_type": "code",
   "execution_count": 32,
   "metadata": {},
   "outputs": [
    {
     "data": {
      "text/plain": [
       "0.78"
      ]
     },
     "execution_count": 32,
     "metadata": {},
     "output_type": "execute_result"
    }
   ],
   "source": [
    "roc_auc_score(y_test,pred)"
   ]
  },
  {
   "cell_type": "code",
   "execution_count": 33,
   "metadata": {},
   "outputs": [
    {
     "data": {
      "text/plain": [
       "0.8"
      ]
     },
     "execution_count": 33,
     "metadata": {},
     "output_type": "execute_result"
    }
   ],
   "source": [
    "precision_score(y_test,pred)\n"
   ]
  },
  {
   "cell_type": "code",
   "execution_count": 34,
   "metadata": {},
   "outputs": [
    {
     "data": {
      "text/plain": [
       "0.96"
      ]
     },
     "execution_count": 34,
     "metadata": {},
     "output_type": "execute_result"
    }
   ],
   "source": [
    "recall_score(y_test,pred)"
   ]
  },
  {
   "cell_type": "code",
   "execution_count": 35,
   "metadata": {},
   "outputs": [
    {
     "data": {
      "text/plain": [
       "0.8727272727272728"
      ]
     },
     "execution_count": 35,
     "metadata": {},
     "output_type": "execute_result"
    }
   ],
   "source": [
    "f1_score(y_test,pred)"
   ]
  }
 ],
 "metadata": {
  "kernelspec": {
   "display_name": "Python 3",
   "language": "python",
   "name": "python3"
  },
  "language_info": {
   "codemirror_mode": {
    "name": "ipython",
    "version": 3
   },
   "file_extension": ".py",
   "mimetype": "text/x-python",
   "name": "python",
   "nbconvert_exporter": "python",
   "pygments_lexer": "ipython3",
   "version": "3.8.5"
  }
 },
 "nbformat": 4,
 "nbformat_minor": 4
}
